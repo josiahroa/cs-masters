{
 "cells": [
  {
   "cell_type": "code",
   "id": "initial_id",
   "metadata": {
    "collapsed": true,
    "ExecuteTime": {
     "end_time": "2024-12-08T22:01:56.585211Z",
     "start_time": "2024-12-08T22:01:55.651765Z"
    }
   },
   "source": "!pip3 install pulp",
   "outputs": [
    {
     "name": "stdout",
     "output_type": "stream",
     "text": [
      "Requirement already satisfied: pulp in /Users/josiahroa/workspace/cs-masters/5414-greedy-algorithms/karatsuba/.venv/lib/python3.12/site-packages (2.9.0)\r\n",
      "\r\n",
      "\u001B[1m[\u001B[0m\u001B[34;49mnotice\u001B[0m\u001B[1;39;49m]\u001B[0m\u001B[39;49m A new release of pip is available: \u001B[0m\u001B[31;49m23.2.1\u001B[0m\u001B[39;49m -> \u001B[0m\u001B[32;49m24.3.1\u001B[0m\r\n",
      "\u001B[1m[\u001B[0m\u001B[34;49mnotice\u001B[0m\u001B[1;39;49m]\u001B[0m\u001B[39;49m To update, run: \u001B[0m\u001B[32;49mpip install --upgrade pip\u001B[0m\r\n"
     ]
    }
   ],
   "execution_count": 2
  },
  {
   "metadata": {
    "ExecuteTime": {
     "end_time": "2024-12-08T23:33:02.683902Z",
     "start_time": "2024-12-08T23:33:02.678053Z"
    }
   },
   "cell_type": "code",
   "source": [
    "# from pulp import *\n",
    "# def calculateOptimalPlan(n, edge_list, supplies, debug=False):\n",
    "#     assert n >= 1\n",
    "#     assert all( 0 <= i < n and 0 <= j < n and i != j and c >= 0 for (i,j,c) in edge_list)\n",
    "#     assert len(supplies) == n\n",
    "#     # TODO: Formulate the LP for optimal transportation plan and return the solution as a dictionary\n",
    "#     #       from edges (i,j) to flow from i to j.\n",
    "#     #       If an edge is not present in the dictionary, we will take its flow to be zero.\n",
    "# \n",
    "#     prob = LpProblem('Optimal_Transportation', LpMinimize)\n",
    "# \n",
    "#     # Make decision variables\n",
    "#     decision_vars = {}\n",
    "#     for i, j, _ in edge_list:\n",
    "#         decision_vars[i,j] = (LpVariable(f\"x_{i}_{j}\", lowBound=0, cat=LpContinuous))\n",
    "#     print('Decision Variables:', decision_vars)\n",
    "# \n",
    "#     # Define objective function\n",
    "#     total_cost = 0\n",
    "#     for i, j, c in edge_list:\n",
    "#         total_cost += decision_vars[i, j] * c\n",
    "#     print('Objective Function:', total_cost)\n",
    "#     prob += total_cost\n",
    "# \n",
    "#     # Define constraints\n",
    "#     for v in range(n):\n",
    "#         in_flow = 0\n",
    "#         for i, j, _ in edge_list:\n",
    "#             if j == v:\n",
    "#                 in_flow += decision_vars[i, j]\n",
    "# \n",
    "#         out_flow = 0\n",
    "#         for i, j, _ in edge_list:\n",
    "#             if i == v:\n",
    "#                 out_flow += decision_vars[i, j]\n",
    "# \n",
    "#         flow_constraint = None\n",
    "#         if supplies[v] >= 0:\n",
    "#             flow_constraint = (out_flow - in_flow == abs(supplies[v]))\n",
    "#         elif supplies[v] < 0: \n",
    "#             flow_constraint = (in_flow - out_flow <= abs(supplies[v]))\n",
    "#         \n",
    "#         prob += flow_constraint\n",
    "#     # Solve problem with Pulp\n",
    "#     print(prob)\n",
    "#     prob.solve()\n",
    "#     # \n",
    "#     # # Construct the result dictionary\n",
    "#     result = {}\n",
    "#     for (i, j) in decision_vars:\n",
    "#         result[(i, j)] = decision_vars[(i, j)].varValue\n",
    "# \n",
    "#     return result"
   ],
   "id": "fa4471474011cace",
   "outputs": [],
   "execution_count": 84
  },
  {
   "metadata": {
    "ExecuteTime": {
     "end_time": "2024-12-08T23:43:25.837276Z",
     "start_time": "2024-12-08T23:43:25.827135Z"
    }
   },
   "cell_type": "code",
   "source": [
    "from pulp import *\n",
    "\n",
    "def calculateOptimalPlan(n, edge_list, supplies, debug=False):\n",
    "    assert n >= 1\n",
    "    assert all(0 <= i < n and 0 <= j < n and i != j and c >= 0 for (i, j, c) in edge_list)\n",
    "    assert len(supplies) == n\n",
    "    \n",
    "    # Create the optimization problem (minimization)\n",
    "    prob = LpProblem(\"Transportation_Problem\", LpMinimize)\n",
    "    \n",
    "    # Create flow variables for each edge\n",
    "    flows = {}\n",
    "    edge_costs = {}\n",
    "    # Create variables and store costs for both directions\n",
    "    for i, j, c in edge_list:\n",
    "        flows[(i,j)] = LpVariable(f\"flow_{i}_{j}\", 0)\n",
    "        flows[(j,i)] = LpVariable(f\"flow_{j}_{i}\", 0)\n",
    "        edge_costs[(i,j)] = c\n",
    "        edge_costs[(j,i)] = c\n",
    "    \n",
    "    # Objective function: minimize total cost\n",
    "    prob += lpSum(flows[edge] * edge_costs[edge] for edge in flows)\n",
    "    \n",
    "    # Flow conservation constraints for each vertex\n",
    "    for i in range(n):\n",
    "        # Find all edges connected to vertex i\n",
    "        outgoing_edges = [(i,j) for i,j in flows.keys() if i == i]\n",
    "        incoming_edges = [(j,i) for j,i in flows.keys() if i == i]\n",
    "        \n",
    "        # Net flow at vertex i must equal its supply/demand\n",
    "        prob += (lpSum(flows[edge] for edge in outgoing_edges) - \n",
    "                lpSum(flows[edge] for edge in incoming_edges) == supplies[i])\n",
    "    \n",
    "    # Solve the problem\n",
    "    status = prob.solve(PULP_CBC_CMD(msg=debug))\n",
    "    \n",
    "    if status != 1:  # Not optimal\n",
    "        return {}\n",
    "    \n",
    "    # Create the result dictionary\n",
    "    result = {}\n",
    "    for (i,j) in flows:\n",
    "        flow_value = value(flows[(i,j)])\n",
    "        if flow_value is not None and flow_value > 0:\n",
    "            result[(i,j)] = flow_value\n",
    "            \n",
    "    return result"
   ],
   "id": "e111bd8e01dc8050",
   "outputs": [],
   "execution_count": 94
  },
  {
   "metadata": {
    "ExecuteTime": {
     "end_time": "2024-12-08T23:43:30.684012Z",
     "start_time": "2024-12-08T23:43:30.643439Z"
    }
   },
   "cell_type": "code",
   "source": [
    "def test_solution(n, edge_list, supplies, solution_map, expected_cost):\n",
    "    cost = 0\n",
    "    outflows = [0]*n\n",
    "    inflows = [0]*n\n",
    "    for (i,j,c) in edge_list:\n",
    "        if (i,j) in solution_map: \n",
    "            flow = solution_map[(i,j)]\n",
    "            cost += c * flow\n",
    "            assert flow >= 0, f'flow on edge {(i,j)} is negative --> {flow}'\n",
    "            outflows[i] += flow \n",
    "            inflows[j] += flow\n",
    "        elif (j,i) in solution_map:\n",
    "            flow = solution_map[(j,i)]\n",
    "            cost += c * flow\n",
    "            assert flow >= 0, f'flow on edge {(j,i)} in negative --> {flow}'\n",
    "            outflows[j] += flow\n",
    "            inflows[i] += flow \n",
    "    for (i, s) in enumerate(supplies):\n",
    "        if s > 0:\n",
    "            assert outflows[i]  - inflows[i] <= s, f'Vertex {i} constraint violated: total outflow = {outflows[i]} inflow = {inflows[i]}, supply = {s}'\n",
    "        else:\n",
    "            assert abs(inflows[i]-outflows[i] + s) <= 1E-2,f'Vertex{i} constraint violated: inflow = {inflows[i]} outflow={outflows[i]}, demand = {-s}'\n",
    "    if expected_cost != None:\n",
    "        assert abs(expected_cost - cost) <= 1E-02, f'Expected cost: {expected_cost}, your algorithm returned: {cost}'\n",
    "    print('Test Passed!')\n",
    "\n",
    "n = 5\n",
    "edge_list = [\n",
    "    (0,1, 5), (0, 3, 3), (0, 4, 4),\n",
    "    (1,2, 9), (1,4, 6),\n",
    "    (2,3,8),\n",
    "    (3,4,7)\n",
    "]\n",
    "supplies = [-55, 100, -25, 35, -40]\n",
    "sol_map = calculateOptimalPlan(n, edge_list, supplies, debug=True)\n",
    "test_solution(n, edge_list, supplies, sol_map,670)\n",
    "\n",
    "\n",
    "print('5 points!')"
   ],
   "id": "e42b70cadbaf4e8a",
   "outputs": [
    {
     "name": "stdout",
     "output_type": "stream",
     "text": [
      "Welcome to the CBC MILP Solver \n",
      "Version: 2.10.3 \n",
      "Build Date: Dec 15 2019 \n",
      "\n",
      "command line - /Users/josiahroa/workspace/cs-masters/5414-greedy-algorithms/karatsuba/.venv/lib/python3.12/site-packages/pulp/solverdir/cbc/osx/64/cbc /var/folders/3g/sywttvsx0m34y00rmp2v39b00000gn/T/0df5d1cff4fb4b95a86f8f67f673bf4d-pulp.mps -timeMode elapsed -branch -printingOptions all -solution /var/folders/3g/sywttvsx0m34y00rmp2v39b00000gn/T/0df5d1cff4fb4b95a86f8f67f673bf4d-pulp.sol (default strategy 1)\n",
      "At line 2 NAME          MODEL\n",
      "At line 3 ROWS\n",
      "At line 10 COLUMNS\n",
      "At line 95 RHS\n",
      "At line 101 BOUNDS\n",
      "At line 102 ENDATA\n",
      "Problem MODEL has 5 rows, 14 columns and 0 elements\n",
      "Coin0008I MODEL read with 0 errors\n",
      "Option for timeMode changed from cpu to elapsed\n",
      "Empty problem - 5 rows, 14 columns and 0 elements\n",
      "Empty problem - 5 rows, 14 columns and 0 elements\n",
      "Primal infeasible - objective value 0\n",
      "PrimalInfeasible objective 0 - 0 iterations time 0.002\n",
      "\n",
      "Result - Linear relaxation infeasible\n",
      "\n",
      "Enumerated nodes:           0\n",
      "Total iterations:           0\n",
      "Time (CPU seconds):         0.00\n",
      "Time (Wallclock Seconds):   0.00\n",
      "\n",
      "Option for printingOptions changed from normal to all\n",
      "Total time (CPU seconds):       0.00   (Wallclock seconds):       0.00\n",
      "\n"
     ]
    },
    {
     "ename": "AssertionError",
     "evalue": "Vertex0 constraint violated: inflow = 0 outflow=0, demand = 55",
     "output_type": "error",
     "traceback": [
      "\u001B[0;31m---------------------------------------------------------------------------\u001B[0m",
      "\u001B[0;31mAssertionError\u001B[0m                            Traceback (most recent call last)",
      "Cell \u001B[0;32mIn[96], line 36\u001B[0m\n\u001B[1;32m     34\u001B[0m supplies \u001B[38;5;241m=\u001B[39m [\u001B[38;5;241m-\u001B[39m\u001B[38;5;241m55\u001B[39m, \u001B[38;5;241m100\u001B[39m, \u001B[38;5;241m-\u001B[39m\u001B[38;5;241m25\u001B[39m, \u001B[38;5;241m35\u001B[39m, \u001B[38;5;241m-\u001B[39m\u001B[38;5;241m40\u001B[39m]\n\u001B[1;32m     35\u001B[0m sol_map \u001B[38;5;241m=\u001B[39m calculateOptimalPlan(n, edge_list, supplies, debug\u001B[38;5;241m=\u001B[39m\u001B[38;5;28;01mTrue\u001B[39;00m)\n\u001B[0;32m---> 36\u001B[0m \u001B[43mtest_solution\u001B[49m\u001B[43m(\u001B[49m\u001B[43mn\u001B[49m\u001B[43m,\u001B[49m\u001B[43m \u001B[49m\u001B[43medge_list\u001B[49m\u001B[43m,\u001B[49m\u001B[43m \u001B[49m\u001B[43msupplies\u001B[49m\u001B[43m,\u001B[49m\u001B[43m \u001B[49m\u001B[43msol_map\u001B[49m\u001B[43m,\u001B[49m\u001B[38;5;241;43m670\u001B[39;49m\u001B[43m)\u001B[49m\n\u001B[1;32m     39\u001B[0m \u001B[38;5;28mprint\u001B[39m(\u001B[38;5;124m'\u001B[39m\u001B[38;5;124m5 points!\u001B[39m\u001B[38;5;124m'\u001B[39m)\n",
      "Cell \u001B[0;32mIn[96], line 22\u001B[0m, in \u001B[0;36mtest_solution\u001B[0;34m(n, edge_list, supplies, solution_map, expected_cost)\u001B[0m\n\u001B[1;32m     20\u001B[0m         \u001B[38;5;28;01massert\u001B[39;00m outflows[i]  \u001B[38;5;241m-\u001B[39m inflows[i] \u001B[38;5;241m<\u001B[39m\u001B[38;5;241m=\u001B[39m s, \u001B[38;5;124mf\u001B[39m\u001B[38;5;124m'\u001B[39m\u001B[38;5;124mVertex \u001B[39m\u001B[38;5;132;01m{\u001B[39;00mi\u001B[38;5;132;01m}\u001B[39;00m\u001B[38;5;124m constraint violated: total outflow = \u001B[39m\u001B[38;5;132;01m{\u001B[39;00moutflows[i]\u001B[38;5;132;01m}\u001B[39;00m\u001B[38;5;124m inflow = \u001B[39m\u001B[38;5;132;01m{\u001B[39;00minflows[i]\u001B[38;5;132;01m}\u001B[39;00m\u001B[38;5;124m, supply = \u001B[39m\u001B[38;5;132;01m{\u001B[39;00ms\u001B[38;5;132;01m}\u001B[39;00m\u001B[38;5;124m'\u001B[39m\n\u001B[1;32m     21\u001B[0m     \u001B[38;5;28;01melse\u001B[39;00m:\n\u001B[0;32m---> 22\u001B[0m         \u001B[38;5;28;01massert\u001B[39;00m \u001B[38;5;28mabs\u001B[39m(inflows[i]\u001B[38;5;241m-\u001B[39moutflows[i] \u001B[38;5;241m+\u001B[39m s) \u001B[38;5;241m<\u001B[39m\u001B[38;5;241m=\u001B[39m \u001B[38;5;241m1E-2\u001B[39m,\u001B[38;5;124mf\u001B[39m\u001B[38;5;124m'\u001B[39m\u001B[38;5;124mVertex\u001B[39m\u001B[38;5;132;01m{\u001B[39;00mi\u001B[38;5;132;01m}\u001B[39;00m\u001B[38;5;124m constraint violated: inflow = \u001B[39m\u001B[38;5;132;01m{\u001B[39;00minflows[i]\u001B[38;5;132;01m}\u001B[39;00m\u001B[38;5;124m outflow=\u001B[39m\u001B[38;5;132;01m{\u001B[39;00moutflows[i]\u001B[38;5;132;01m}\u001B[39;00m\u001B[38;5;124m, demand = \u001B[39m\u001B[38;5;132;01m{\u001B[39;00m\u001B[38;5;241m-\u001B[39ms\u001B[38;5;132;01m}\u001B[39;00m\u001B[38;5;124m'\u001B[39m\n\u001B[1;32m     23\u001B[0m \u001B[38;5;28;01mif\u001B[39;00m expected_cost \u001B[38;5;241m!=\u001B[39m \u001B[38;5;28;01mNone\u001B[39;00m:\n\u001B[1;32m     24\u001B[0m     \u001B[38;5;28;01massert\u001B[39;00m \u001B[38;5;28mabs\u001B[39m(expected_cost \u001B[38;5;241m-\u001B[39m cost) \u001B[38;5;241m<\u001B[39m\u001B[38;5;241m=\u001B[39m \u001B[38;5;241m1E-02\u001B[39m, \u001B[38;5;124mf\u001B[39m\u001B[38;5;124m'\u001B[39m\u001B[38;5;124mExpected cost: \u001B[39m\u001B[38;5;132;01m{\u001B[39;00mexpected_cost\u001B[38;5;132;01m}\u001B[39;00m\u001B[38;5;124m, your algorithm returned: \u001B[39m\u001B[38;5;132;01m{\u001B[39;00mcost\u001B[38;5;132;01m}\u001B[39;00m\u001B[38;5;124m'\u001B[39m\n",
      "\u001B[0;31mAssertionError\u001B[0m: Vertex0 constraint violated: inflow = 0 outflow=0, demand = 55"
     ]
    }
   ],
   "execution_count": 96
  },
  {
   "metadata": {
    "ExecuteTime": {
     "end_time": "2024-12-08T23:43:31.080596Z",
     "start_time": "2024-12-08T23:43:31.078145Z"
    }
   },
   "cell_type": "code",
   "source": [
    "# from pulp import *\n",
    "# \n",
    "# def testPath(n, edge_list, supplies, debug=False):\n",
    "#     # Create a linear programming problem\n",
    "#     prob = LpProblem(\"Transportation_Problem\", LpMinimize)\n",
    "#     \n",
    "#     # Define variables for each edge (i, j) representing flow\n",
    "#     flow_vars = {(i, j): LpVariable(f'flow_{i}_{j}', lowBound=0, cat='Continuous') for (i, j, _) in edge_list}\n",
    "#     \n",
    "#     # Objective function: Minimize the total transportation cost\n",
    "#     prob += lpSum(flow_vars[i, j] * c for (i, j, c) in edge_list), \"Total Cost\"\n",
    "#     \n",
    "#     # Constraints for each node i\n",
    "#     for v in range(n):\n",
    "#         # Net flow = outflow - inflow should be equal to supplies[i]\n",
    "#         prob += (\n",
    "#             lpSum(flow_vars[i, j] for (i, j, _) in edge_list if i == i) -\n",
    "#             lpSum(flow_vars[j, i] for (j, i, _) in edge_list if i == i)\n",
    "#             == supplies[v], f\"Node_{v}_Supply_Demand\"\n",
    "#         )\n",
    "#     \n",
    "#     # Solve the problem\n",
    "#     prob.solve()\n",
    "#     \n",
    "#     # Create the solution map (flows for each edge)\n",
    "#     solution_map = {(i, j): flow_vars[i, j].varValue for (i, j, _) in edge_list if flow_vars[i, j].varValue > 0}\n",
    "#     \n",
    "#     if debug:\n",
    "#         print(\"Status:\", LpStatus[prob.status])\n",
    "#         print(\"Optimal Cost:\", value(prob.objective))\n",
    "#         for (i, j), flow in solution_map.items():\n",
    "#             print(f\"Flow from {i} to {j}: {flow}\")\n",
    "#     \n",
    "#     return solution_map"
   ],
   "id": "e6280162c09b14c9",
   "outputs": [],
   "execution_count": 97
  },
  {
   "metadata": {},
   "cell_type": "code",
   "outputs": [],
   "execution_count": null,
   "source": "",
   "id": "f82ec2078cb91f63"
  }
 ],
 "metadata": {
  "kernelspec": {
   "display_name": "Python 3",
   "language": "python",
   "name": "python3"
  },
  "language_info": {
   "codemirror_mode": {
    "name": "ipython",
    "version": 2
   },
   "file_extension": ".py",
   "mimetype": "text/x-python",
   "name": "python",
   "nbconvert_exporter": "python",
   "pygments_lexer": "ipython2",
   "version": "2.7.6"
  }
 },
 "nbformat": 4,
 "nbformat_minor": 5
}
