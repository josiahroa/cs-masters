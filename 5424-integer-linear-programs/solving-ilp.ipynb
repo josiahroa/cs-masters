{
 "cells": [
  {
   "metadata": {
    "collapsed": true,
    "ExecuteTime": {
     "end_time": "2024-12-01T20:57:17.002964Z",
     "start_time": "2024-12-01T20:57:16.157027Z"
    }
   },
   "cell_type": "code",
   "source": "!pip3 install pulp",
   "id": "initial_id",
   "outputs": [
    {
     "name": "stdout",
     "output_type": "stream",
     "text": [
      "Requirement already satisfied: pulp in /Users/josiahroa/workspace/cs-masters/5414-greedy-algorithms/karatsuba/.venv/lib/python3.12/site-packages (2.9.0)\r\n",
      "\r\n",
      "\u001B[1m[\u001B[0m\u001B[34;49mnotice\u001B[0m\u001B[1;39;49m]\u001B[0m\u001B[39;49m A new release of pip is available: \u001B[0m\u001B[31;49m23.2.1\u001B[0m\u001B[39;49m -> \u001B[0m\u001B[32;49m24.3.1\u001B[0m\r\n",
      "\u001B[1m[\u001B[0m\u001B[34;49mnotice\u001B[0m\u001B[1;39;49m]\u001B[0m\u001B[39;49m To update, run: \u001B[0m\u001B[32;49mpip install --upgrade pip\u001B[0m\r\n"
     ]
    }
   ],
   "execution_count": 17
  },
  {
   "metadata": {},
   "cell_type": "markdown",
   "source": "# Solve the ILP Problem Below:",
   "id": "f25e05b0ec4636f5"
  },
  {
   "metadata": {
    "ExecuteTime": {
     "end_time": "2024-12-01T20:57:17.061897Z",
     "start_time": "2024-12-01T20:57:17.015353Z"
    }
   },
   "cell_type": "code",
   "source": [
    "import pulp as pl\n",
    "\n",
    "\n",
    "model = pl.LpProblem(\"Prob_1\", pl.LpMaximize)\n",
    "\n",
    "# Create decision variables with an Integer constraint to Integers in set {-15, -14,...,14 , 15}\n",
    "x1 = pl.LpVariable(\"x1\", -15, 15, cat=\"Integer\")\n",
    "x2 = pl.LpVariable(\"x2\", -15, 15, cat=\"Integer\")\n",
    "x3 = pl.LpVariable(\"x3\", -15, 15, cat=\"Integer\")\n",
    "x4 = pl.LpVariable(\"x4\", -15, 15, cat=\"Integer\")\n",
    "x5 = pl.LpVariable(\"x5\", -15, 15, cat=\"Integer\")\n",
    "\n",
    "# Create objective function\n",
    "model += 2*x1 - 3*x2 +x3\n",
    "\n",
    "# Create constraints for ILP\n",
    "model += x1 - x2 + x3 <= 5\n",
    "model += x1 - x2 + 4 * x3 <= 7\n",
    "model += x1 + 2*x2 - x3 + x4 <= 14\n",
    "model += x3 - x4 + x5 <= 7\n",
    "\n",
    "# Solve and abstract values for objective value\n",
    "model.solve()\n",
    "for v in model.variables():\n",
    "    print(v, v.value())\n",
    "print('objective value', model.objective.value())\n",
    "\n",
    "\n"
   ],
   "id": "501666aa018ba96d",
   "outputs": [
    {
     "name": "stdout",
     "output_type": "stream",
     "text": [
      "Welcome to the CBC MILP Solver \n",
      "Version: 2.10.3 \n",
      "Build Date: Dec 15 2019 \n",
      "\n",
      "command line - /Users/josiahroa/workspace/cs-masters/5414-greedy-algorithms/karatsuba/.venv/lib/python3.12/site-packages/pulp/solverdir/cbc/osx/64/cbc /var/folders/3g/sywttvsx0m34y00rmp2v39b00000gn/T/79a133c0c4cc46f6b82e875d90d8c31a-pulp.mps -max -timeMode elapsed -branch -printingOptions all -solution /var/folders/3g/sywttvsx0m34y00rmp2v39b00000gn/T/79a133c0c4cc46f6b82e875d90d8c31a-pulp.sol (default strategy 1)\n",
      "At line 2 NAME          MODEL\n",
      "At line 3 ROWS\n",
      "At line 9 COLUMNS\n",
      "At line 36 RHS\n",
      "At line 41 BOUNDS\n",
      "At line 52 ENDATA\n",
      "Problem MODEL has 4 rows, 5 columns and 13 elements\n",
      "Coin0008I MODEL read with 0 errors\n",
      "Option for timeMode changed from cpu to elapsed\n",
      "Continuous objective value is 40 - 0.00 seconds\n",
      "Cgl0004I processed model has 4 rows, 4 columns (4 integer (0 of which binary)) and 12 elements\n",
      "Cutoff increment increased from 1e-05 to 0.9999\n",
      "Cbc0012I Integer solution of -40 found by DiveCoefficient after 0 iterations and 0 nodes (0.01 seconds)\n",
      "Cbc0001I Search completed - best objective -40, took 0 iterations and 0 nodes (0.01 seconds)\n",
      "Cbc0035I Maximum depth 0, 0 variables fixed on reduced cost\n",
      "Cuts at root node changed objective from -40 to -40\n",
      "Probing was tried 0 times and created 0 cuts of which 0 were active after adding rounds of cuts (0.000 seconds)\n",
      "Gomory was tried 0 times and created 0 cuts of which 0 were active after adding rounds of cuts (0.000 seconds)\n",
      "Knapsack was tried 0 times and created 0 cuts of which 0 were active after adding rounds of cuts (0.000 seconds)\n",
      "Clique was tried 0 times and created 0 cuts of which 0 were active after adding rounds of cuts (0.000 seconds)\n",
      "MixedIntegerRounding2 was tried 0 times and created 0 cuts of which 0 were active after adding rounds of cuts (0.000 seconds)\n",
      "FlowCover was tried 0 times and created 0 cuts of which 0 were active after adding rounds of cuts (0.000 seconds)\n",
      "TwoMirCuts was tried 0 times and created 0 cuts of which 0 were active after adding rounds of cuts (0.000 seconds)\n",
      "ZeroHalf was tried 0 times and created 0 cuts of which 0 were active after adding rounds of cuts (0.000 seconds)\n",
      "\n",
      "Result - Optimal solution found\n",
      "\n",
      "Objective value:                40.00000000\n",
      "Enumerated nodes:               0\n",
      "Total iterations:               0\n",
      "Time (CPU seconds):             0.00\n",
      "Time (Wallclock seconds):       0.01\n",
      "\n",
      "Option for printingOptions changed from normal to all\n",
      "Total time (CPU seconds):       0.00   (Wallclock seconds):       0.02\n",
      "\n",
      "x1 5.0\n",
      "x2 -15.0\n",
      "x3 -15.0\n",
      "x4 -15.0\n",
      "x5 -15.0\n",
      "objective value 40.0\n"
     ]
    }
   ],
   "execution_count": 18
  },
  {
   "metadata": {},
   "cell_type": "markdown",
   "source": [
    "# Solve the Relaxed LP Version\n",
    "Using the same problem from above, solve the relaxed LP version by dropping the integer constraints"
   ],
   "id": "c89ec52372f5493d"
  },
  {
   "metadata": {
    "ExecuteTime": {
     "end_time": "2024-12-01T20:57:17.090331Z",
     "start_time": "2024-12-01T20:57:17.070781Z"
    }
   },
   "cell_type": "code",
   "source": [
    "import pulp as pl\n",
    "\n",
    "\n",
    "model = pl.LpProblem(\"Prob_1\", pl.LpMaximize)\n",
    "\n",
    "# Create decision variables\n",
    "x1 = pl.LpVariable(\"x1\", -15, 15)\n",
    "x2 = pl.LpVariable(\"x2\", -15, 15)\n",
    "x3 = pl.LpVariable(\"x3\", -15, 15)\n",
    "x4 = pl.LpVariable(\"x4\", -15, 15)\n",
    "x5 = pl.LpVariable(\"x5\", -15, 15)\n",
    "\n",
    "# Create objective function\n",
    "model += 2*x1 - 3*x2 +x3\n",
    "\n",
    "# Create constraints for ILP\n",
    "model += x1 - x2 + x3 <= 5\n",
    "model += x1 - x2 + 4 * x3 <= 7\n",
    "model += x1 + 2*x2 - x3 + x4 <= 14\n",
    "model += x3 - x4 + x5 <= 7\n",
    "\n",
    "# Solve and abstract values for objective value\n",
    "model.solve()\n",
    "for v in model.variables():\n",
    "    print(v, v.value())\n",
    "print('objective value', model.objective.value())\n",
    "\n",
    "\n"
   ],
   "id": "ed4e511922e88e4d",
   "outputs": [
    {
     "name": "stdout",
     "output_type": "stream",
     "text": [
      "Welcome to the CBC MILP Solver \n",
      "Version: 2.10.3 \n",
      "Build Date: Dec 15 2019 \n",
      "\n",
      "command line - /Users/josiahroa/workspace/cs-masters/5414-greedy-algorithms/karatsuba/.venv/lib/python3.12/site-packages/pulp/solverdir/cbc/osx/64/cbc /var/folders/3g/sywttvsx0m34y00rmp2v39b00000gn/T/8d66f57f8698400ba05312f52aca9ca1-pulp.mps -max -timeMode elapsed -branch -printingOptions all -solution /var/folders/3g/sywttvsx0m34y00rmp2v39b00000gn/T/8d66f57f8698400ba05312f52aca9ca1-pulp.sol (default strategy 1)\n",
      "At line 2 NAME          MODEL\n",
      "At line 3 ROWS\n",
      "At line 9 COLUMNS\n",
      "At line 26 RHS\n",
      "At line 31 BOUNDS\n",
      "At line 42 ENDATA\n",
      "Problem MODEL has 4 rows, 5 columns and 13 elements\n",
      "Coin0008I MODEL read with 0 errors\n",
      "Option for timeMode changed from cpu to elapsed\n",
      "Presolve 4 (0) rows, 4 (-1) columns and 12 (-1) elements\n",
      "0  Obj -0 Dual inf 2.999998 (2)\n",
      "1  Obj 40\n",
      "Optimal - objective value 40\n",
      "After Postsolve, objective 40, infeasibilities - dual 0 (0), primal 0 (0)\n",
      "Optimal objective 40 - 1 iterations time 0.002, Presolve 0.00\n",
      "Option for printingOptions changed from normal to all\n",
      "Total time (CPU seconds):       0.00   (Wallclock seconds):       0.00\n",
      "\n",
      "x1 5.0\n",
      "x2 -15.0\n",
      "x3 -15.0\n",
      "x4 -15.0\n",
      "x5 -15.0\n",
      "objective value 40.0\n"
     ]
    }
   ],
   "execution_count": 19
  },
  {
   "metadata": {
    "ExecuteTime": {
     "end_time": "2024-12-01T20:57:17.184555Z",
     "start_time": "2024-12-01T20:57:17.155786Z"
    }
   },
   "cell_type": "code",
   "source": [
    "model = pl.LpProblem(\"Integer_Optimization_Problem\", pl.LpMinimize)\n",
    "\n",
    "# Define the variables\n",
    "x1 = pl.LpVariable(\"x1\", -1, 1, cat=\"Integer\")\n",
    "x2 = pl.LpVariable(\"x2\", -1, 1, cat=\"Integer\")\n",
    "x3 = pl.LpVariable(\"x3\", -1, 1, cat=\"Integer\")\n",
    "\n",
    "# Objective function\n",
    "model += 2 * x1 - 3 * x2 + x3, \"Objective\"\n",
    "\n",
    "# Constraints\n",
    "model += x1 - x2 >= 0.5, \"Constraint_1\"\n",
    "model += x1 - x2 <= 0.75, \"Constraint_2\"\n",
    "model += x2 - x3 <= 1.25, \"Constraint_3\"\n",
    "model += x2 - x3 >= 0.95, \"Constraint_4\"\n",
    "\n",
    "# Solve the problem\n",
    "model.solve()\n",
    "assert model.status == pl.LpStatus\n",
    "print('objective value', model.objective.value())"
   ],
   "id": "9783cd7fd79104e7",
   "outputs": [
    {
     "name": "stdout",
     "output_type": "stream",
     "text": [
      "Welcome to the CBC MILP Solver \n",
      "Version: 2.10.3 \n",
      "Build Date: Dec 15 2019 \n",
      "\n",
      "command line - /Users/josiahroa/workspace/cs-masters/5414-greedy-algorithms/karatsuba/.venv/lib/python3.12/site-packages/pulp/solverdir/cbc/osx/64/cbc /var/folders/3g/sywttvsx0m34y00rmp2v39b00000gn/T/23736187a8f6429c8bc70c065121b060-pulp.mps -timeMode elapsed -branch -printingOptions all -solution /var/folders/3g/sywttvsx0m34y00rmp2v39b00000gn/T/23736187a8f6429c8bc70c065121b060-pulp.sol (default strategy 1)\n",
      "At line 2 NAME          MODEL\n",
      "At line 3 ROWS\n",
      "At line 9 COLUMNS\n",
      "At line 27 RHS\n",
      "At line 32 BOUNDS\n",
      "At line 39 ENDATA\n",
      "Problem MODEL has 4 rows, 3 columns and 8 elements\n",
      "Coin0008I MODEL read with 0 errors\n",
      "Option for timeMode changed from cpu to elapsed\n",
      "Continuous objective value is -0.25 - 0.00 seconds\n",
      "Cgl0000I Cut generators found to be infeasible! (or unbounded)\n",
      "Pre-processing says infeasible or unbounded\n",
      "Option for printingOptions changed from normal to all\n",
      "Total time (CPU seconds):       0.00   (Wallclock seconds):       0.00\n",
      "\n"
     ]
    },
    {
     "ename": "AssertionError",
     "evalue": "",
     "output_type": "error",
     "traceback": [
      "\u001B[0;31m---------------------------------------------------------------------------\u001B[0m",
      "\u001B[0;31mAssertionError\u001B[0m                            Traceback (most recent call last)",
      "Cell \u001B[0;32mIn[20], line 19\u001B[0m\n\u001B[1;32m     17\u001B[0m \u001B[38;5;66;03m# Solve the problem\u001B[39;00m\n\u001B[1;32m     18\u001B[0m model\u001B[38;5;241m.\u001B[39msolve()\n\u001B[0;32m---> 19\u001B[0m \u001B[38;5;28;01massert\u001B[39;00m model\u001B[38;5;241m.\u001B[39mstatus \u001B[38;5;241m==\u001B[39m pl\u001B[38;5;241m.\u001B[39mLpStatus\n\u001B[1;32m     20\u001B[0m \u001B[38;5;28mprint\u001B[39m(\u001B[38;5;124m'\u001B[39m\u001B[38;5;124mobjective value\u001B[39m\u001B[38;5;124m'\u001B[39m, model\u001B[38;5;241m.\u001B[39mobjective\u001B[38;5;241m.\u001B[39mvalue())\n",
      "\u001B[0;31mAssertionError\u001B[0m: "
     ]
    }
   ],
   "execution_count": 20
  },
  {
   "metadata": {
    "ExecuteTime": {
     "end_time": "2024-12-01T20:57:17.188382Z",
     "start_time": "2024-12-01T19:31:57.508543Z"
    }
   },
   "cell_type": "code",
   "source": [
    "model = pl.LpProblem(\"Integer_Optimization_LP_Relaxed_Problem\", pl.LpMinimize)\n",
    "\n",
    "# Define the variables\n",
    "x1 = pl.LpVariable(\"x1\", -1, 1 )\n",
    "x2 = pl.LpVariable(\"x2\", -1, 1 )\n",
    "x3 = pl.LpVariable(\"x3\", -1, 1)\n",
    "\n",
    "# Objective function\n",
    "model += 2 * x1 - 3 * x2 + x3, \"Objective\"\n",
    "\n",
    "# Constraints\n",
    "model += x1 - x2 >= 0.5, \"Constraint_1\"\n",
    "model += x1 - x2 <= 0.75, \"Constraint_2\"\n",
    "model += x2 - x3 <= 1.25, \"Constraint_3\"\n",
    "model += x2 - x3 >= 0.95, \"Constraint_4\"\n",
    "\n",
    "# Solve the problem\n",
    "model.solve()\n",
    "print('objective value', model.objective.value())"
   ],
   "id": "4f397f3c22279af7",
   "outputs": [
    {
     "name": "stdout",
     "output_type": "stream",
     "text": [
      "Welcome to the CBC MILP Solver \n",
      "Version: 2.10.3 \n",
      "Build Date: Dec 15 2019 \n",
      "\n",
      "command line - /Users/josiahroa/workspace/cs-masters/5414-greedy-algorithms/karatsuba/.venv/lib/python3.12/site-packages/pulp/solverdir/cbc/osx/64/cbc /var/folders/3g/sywttvsx0m34y00rmp2v39b00000gn/T/2171684e0fda4fb78b59ed920bcfbc84-pulp.mps -timeMode elapsed -branch -printingOptions all -solution /var/folders/3g/sywttvsx0m34y00rmp2v39b00000gn/T/2171684e0fda4fb78b59ed920bcfbc84-pulp.sol (default strategy 1)\n",
      "At line 2 NAME          MODEL\n",
      "At line 3 ROWS\n",
      "At line 9 COLUMNS\n",
      "At line 21 RHS\n",
      "At line 26 BOUNDS\n",
      "At line 33 ENDATA\n",
      "Problem MODEL has 4 rows, 3 columns and 8 elements\n",
      "Coin0008I MODEL read with 0 errors\n",
      "Option for timeMode changed from cpu to elapsed\n",
      "Presolve 4 (0) rows, 3 (0) columns and 8 (0) elements\n",
      "0  Obj 0 Primal inf 1.4499998 (2) Dual inf 2.9999999 (1)\n",
      "2  Obj -0.25\n",
      "Optimal - objective value -0.25\n",
      "Optimal objective -0.25 - 2 iterations time 0.002\n",
      "Option for printingOptions changed from normal to all\n",
      "Total time (CPU seconds):       0.00   (Wallclock seconds):       0.00\n",
      "\n",
      "objective value -0.25\n"
     ]
    }
   ],
   "execution_count": 16
  },
  {
   "metadata": {},
   "cell_type": "code",
   "outputs": [],
   "execution_count": null,
   "source": "",
   "id": "908eb8d1148ea42d"
  }
 ],
 "metadata": {
  "kernelspec": {
   "display_name": "Python 3",
   "language": "python",
   "name": "python3"
  },
  "language_info": {
   "codemirror_mode": {
    "name": "ipython",
    "version": 2
   },
   "file_extension": ".py",
   "mimetype": "text/x-python",
   "name": "python",
   "nbconvert_exporter": "python",
   "pygments_lexer": "ipython2",
   "version": "2.7.6"
  }
 },
 "nbformat": 4,
 "nbformat_minor": 5
}
