{
 "cells": [
  {
   "cell_type": "code",
   "id": "initial_id",
   "metadata": {
    "collapsed": true,
    "ExecuteTime": {
     "end_time": "2024-12-09T00:11:06.703462Z",
     "start_time": "2024-12-09T00:11:02.076405Z"
    }
   },
   "source": [
    "!pip3 install pulp\n",
    "!pip3 install numpy"
   ],
   "outputs": [
    {
     "name": "stdout",
     "output_type": "stream",
     "text": [
      "Requirement already satisfied: pulp in /Users/josiahroa/workspace/cs-masters/5414-greedy-algorithms/karatsuba/.venv/lib/python3.12/site-packages (2.9.0)\r\n",
      "\r\n",
      "\u001B[1m[\u001B[0m\u001B[34;49mnotice\u001B[0m\u001B[1;39;49m]\u001B[0m\u001B[39;49m A new release of pip is available: \u001B[0m\u001B[31;49m23.2.1\u001B[0m\u001B[39;49m -> \u001B[0m\u001B[32;49m24.3.1\u001B[0m\r\n",
      "\u001B[1m[\u001B[0m\u001B[34;49mnotice\u001B[0m\u001B[1;39;49m]\u001B[0m\u001B[39;49m To update, run: \u001B[0m\u001B[32;49mpip install --upgrade pip\u001B[0m\r\n",
      "Collecting numpy\r\n",
      "  Obtaining dependency information for numpy from https://files.pythonhosted.org/packages/41/6d/a654d519d24e4fcc7a83d4a51209cda086f26cf30722b3d8ffc1aa9b775e/numpy-2.2.0-cp312-cp312-macosx_14_0_arm64.whl.metadata\r\n",
      "  Downloading numpy-2.2.0-cp312-cp312-macosx_14_0_arm64.whl.metadata (62 kB)\r\n",
      "\u001B[2K     \u001B[90m━━━━━━━━━━━━━━━━━━━━━━━━━━━━━━━━━━━━━━━━\u001B[0m \u001B[32m62.0/62.0 kB\u001B[0m \u001B[31m1.9 MB/s\u001B[0m eta \u001B[36m0:00:00\u001B[0m\r\n",
      "\u001B[?25hDownloading numpy-2.2.0-cp312-cp312-macosx_14_0_arm64.whl (5.1 MB)\r\n",
      "\u001B[2K   \u001B[90m━━━━━━━━━━━━━━━━━━━━━━━━━━━━━━━━━━━━━━━━\u001B[0m \u001B[32m5.1/5.1 MB\u001B[0m \u001B[31m4.1 MB/s\u001B[0m eta \u001B[36m0:00:00\u001B[0m00:01\u001B[0m00:01\u001B[0m\r\n",
      "\u001B[?25hInstalling collected packages: numpy\r\n",
      "Successfully installed numpy-2.2.0\r\n",
      "\r\n",
      "\u001B[1m[\u001B[0m\u001B[34;49mnotice\u001B[0m\u001B[1;39;49m]\u001B[0m\u001B[39;49m A new release of pip is available: \u001B[0m\u001B[31;49m23.2.1\u001B[0m\u001B[39;49m -> \u001B[0m\u001B[32;49m24.3.1\u001B[0m\r\n",
      "\u001B[1m[\u001B[0m\u001B[34;49mnotice\u001B[0m\u001B[1;39;49m]\u001B[0m\u001B[39;49m To update, run: \u001B[0m\u001B[32;49mpip install --upgrade pip\u001B[0m\r\n"
     ]
    }
   ],
   "execution_count": 3
  },
  {
   "metadata": {
    "ExecuteTime": {
     "end_time": "2024-12-09T00:18:14.474196Z",
     "start_time": "2024-12-09T00:18:14.466465Z"
    }
   },
   "cell_type": "code",
   "source": [
    "from random import uniform, seed\n",
    "\n",
    "def computeApproximateSolution(n, m, c_matrix, d_values):\n",
    "    assert n >= 1\n",
    "    assert len(c_matrix) == m\n",
    "    assert all(len(c_list) == n for c_list in c_matrix)\n",
    "    assert len(d_values) == m\n",
    "    \n",
    "    seed(42)  # For reproducibility\n",
    "    r_values = [uniform(-1, 1) for _ in range(n)]\n",
    "    # x = [uniform(-1, 1) for _ in range(n)]\n",
    "    \n",
    "    def is_satisfied(c_list, d, x):\n",
    "        \"\"\"Check if an inequality is satisfied.\"\"\"\n",
    "        return sum(c * xi for c, xi in zip(c_list, x)) <= d\n",
    "\n",
    "    # Count satisfied inequalities\n",
    "    def count_satisfied_inequalities(c_matrix, d_values, x):\n",
    "        satisfied = []\n",
    "        for idx, (c_list, d) in enumerate(zip(c_matrix, d_values)):\n",
    "            if is_satisfied(c_list, d, x):\n",
    "                satisfied.append(idx)\n",
    "        return len(satisfied), satisfied\n",
    "\n",
    "    # Improve solution iteratively\n",
    "    best_x = r_values[:]\n",
    "    best_k, satisfied_indices = count_satisfied_inequalities(c_matrix, d_values, best_x)\n",
    "    \n",
    "    # Ensure at least ceil(m / 2) inequalities are satisfied\n",
    "    target_k = (m + 1) // 2  # Equivalent to ceil(m / 2)\n",
    "    while best_k < target_k:\n",
    "        # Identify unsatisfied inequalities\n",
    "        unsatisfied_indices = [i for i in range(m) if i not in satisfied_indices]\n",
    "        \n",
    "        # Attempt to fix one unsatisfied inequality\n",
    "        for idx in unsatisfied_indices:\n",
    "            c_list = c_matrix[idx]\n",
    "            d = d_values[idx]\n",
    "            # Adjust x to try to satisfy this inequality\n",
    "            adjustment = [uniform(-0.1, 0.1) for _ in range(n)]\n",
    "            candidate_x = [xi + adj for xi, adj in zip(best_x, adjustment)]\n",
    "            \n",
    "            # Test the new solution\n",
    "            new_k, new_satisfied_indices = count_satisfied_inequalities(c_matrix, d_values, candidate_x)\n",
    "            \n",
    "            # Keep the better solution\n",
    "            if new_k > best_k:\n",
    "                best_x, best_k, satisfied_indices = candidate_x, new_k, new_satisfied_indices\n",
    "                break\n",
    "    \n",
    "    return best_k, best_x"
   ],
   "id": "6213323df2a07090",
   "outputs": [],
   "execution_count": 1
  },
  {
   "metadata": {
    "ExecuteTime": {
     "end_time": "2024-12-09T00:18:15.624631Z",
     "start_time": "2024-12-09T00:18:15.617009Z"
    }
   },
   "cell_type": "code",
   "source": [
    "def testSolution(n, m, c_matrix, d_values, x_values):\n",
    "    # always check pre-conditions: saves so much time later\n",
    "    assert len(c_matrix) == m\n",
    "    assert all(len(c_list) == n for c_list in c_matrix)\n",
    "    assert len(d_values) == m\n",
    "    assert len(x_values) == n\n",
    "     # Check how many inequalities satisfied\n",
    "    num_ineqs = 0\n",
    "    for (c_list, d) in zip(c_matrix, d_values):\n",
    "        if sum([cj * xj for (cj, xj) in zip(c_list,x_values )]) <= d+1E-3:\n",
    "            num_ineqs = num_ineqs + 1\n",
    "    assert num_ineqs >= m/2, f' Half number of inequalities to be sat: {m/2} your solution satisfies: {num_ineqs} inequalities '\n",
    "    print('Test Passed')\n",
    "    return \n",
    "        \n",
    "        \n",
    "\n",
    "n = 5\n",
    "m = 24\n",
    "c_matrix = [\n",
    "    [1, -1, 0, 1, -1],\n",
    "    [1, 2, 0, 0, 2],\n",
    "    [-1, 0, 1, 1, 1],\n",
    "    [1, 0, 0, 0, -1],\n",
    "    [-1, 0, 0, -1, -1],\n",
    "    [1, 0, 0, 1, 1],\n",
    "    [1, 0, -1, 1, 0],\n",
    "    [0, 2, 1, 0, 2],\n",
    "    [-1, 1, 1, -1, 0],\n",
    "    [1, 1, 1, 0, 1],\n",
    "    [-1, 1, 1, 0, 0],\n",
    "    [1, 1, 1, 1, 0],\n",
    "    [-1, 1, 0, 1, -1],\n",
    "    [1, -2, 0, 0, -2],\n",
    "    [1, 0, 1, -1, -1],\n",
    "    [1, 0, 1, 0, 1],\n",
    "    [-1, 0, 0, 1, 1],\n",
    "    [-1, 0, 0, 1, 1],\n",
    "    [1, -1, 1, 1, 1],\n",
    "    [0, -2, -1, 0, 2],\n",
    "    [-1, -1, -1, -1, 0],\n",
    "    [-1, 1, -1, 0, 1],\n",
    "    [1, 0, 0, 1, 0],\n",
    "    [-1, 0, -1, 0, -1],\n",
    "]\n",
    "\n",
    "d_list = [\n",
    "    -5, 3, -4, -2, -3, -1,\n",
    "    -5, 3, -4, -2, -3, -1,\n",
    "     5, -3, 4, 2, 3, 1,\n",
    "    5, -3, 4, 2, 3, 1,\n",
    "    \n",
    "]\n",
    "(k, x_values) = computeApproximateSolution(n, m, c_matrix, d_list)\n",
    "print(k)\n",
    "print(x_values)\n",
    "\n",
    "testSolution(n, m, c_matrix, d_list, x_values)\n",
    "print('5 points')"
   ],
   "id": "17a9c8bb7db17e2e",
   "outputs": [
    {
     "name": "stdout",
     "output_type": "stream",
     "text": [
      "13\n",
      "[0.2788535969157675, -0.9499784895546661, -0.4499413632617615, -0.5535785237023545, 0.4729424283280248]\n",
      "Test Passed\n",
      "5 points\n"
     ]
    }
   ],
   "execution_count": 2
  },
  {
   "metadata": {
    "ExecuteTime": {
     "end_time": "2024-12-09T00:18:16.273168Z",
     "start_time": "2024-12-09T00:18:16.217982Z"
    }
   },
   "cell_type": "code",
   "source": [
    "from random import uniform, randint, seed\n",
    "## Warning: these are large instances. If your solution takes more than 120 seconds, then \n",
    "## chances are that you will not receive any credit for this problem.\n",
    "def gen_random_instance(n, m):\n",
    "    c_matrix = [ [randint(-5, 5) for i in range(n)] for j in range(m)]\n",
    "    d_values = [randint(-10,10) for i in range(m)]\n",
    "    return (c_matrix, d_values)\n",
    "\n",
    "seed(100001)\n",
    "\n",
    "print('Test # 1')\n",
    "n = 10\n",
    "m = 55\n",
    "(c_matrix, d_values) = gen_random_instance(n, m)\n",
    "(k, x_values) = computeApproximateSolution(n, m, c_matrix, d_values)\n",
    "print(k)\n",
    "print(x_values)\n",
    "testSolution(n, m, c_matrix, d_values, x_values)\n",
    "\n",
    "\n",
    "print('Test # 2')\n",
    "n = 35\n",
    "m = 230\n",
    "(c_matrix, d_values) = gen_random_instance(n, m)\n",
    "(k, x_values) = computeApproximateSolution(n, m, c_matrix, d_values)\n",
    "print(k)\n",
    "print(x_values)\n",
    "testSolution(n, m, c_matrix, d_values, x_values)\n",
    "\n",
    "print('Test # 3')\n",
    "n = 100\n",
    "m = 550\n",
    "(c_matrix, d_values) = gen_random_instance(n, m)\n",
    "(k, x_values) = computeApproximateSolution(n, m, c_matrix, d_values)\n",
    "print(k)\n",
    "print(x_values)\n",
    "testSolution(n, m, c_matrix, d_values, x_values)\n",
    "\n",
    "print('Test # 4')\n",
    "n = 80\n",
    "m = 900\n",
    "(c_matrix, d_values) = gen_random_instance(n, m)\n",
    "(k, x_values) = computeApproximateSolution(n, m, c_matrix, d_values)\n",
    "print(k)\n",
    "print(x_values)\n",
    "testSolution(n, m, c_matrix, d_values, x_values)\n",
    "\n",
    "print('Test # 5')\n",
    "n = 70\n",
    "m = 445\n",
    "(c_matrix, d_values) = gen_random_instance(n, m)\n",
    "(k, x_values) = computeApproximateSolution(n, m, c_matrix, d_values)\n",
    "print(k)\n",
    "print(x_values)\n",
    "testSolution(n, m, c_matrix, d_values, x_values)\n",
    "\n",
    "print('15 points!')"
   ],
   "id": "c1bcc3faadd52d68",
   "outputs": [
    {
     "name": "stdout",
     "output_type": "stream",
     "text": [
      "Test # 1\n",
      "28\n",
      "[0.22258119187648817, -0.9489074319339936, -0.5446341693249888, -0.6138109935650248, 0.5029193158839295, 0.36238727096646595, 0.7284472598178302, -0.808269197965986, -0.09427026929389382, -1.039105809188247]\n",
      "Test Passed\n",
      "Test # 2\n",
      "119\n",
      "[0.2788535969157675, -0.9499784895546661, -0.4499413632617615, -0.5535785237023545, 0.4729424283280248, 0.3533989748458226, 0.7843591354096908, -0.8261223347411677, -0.15615636062945915, -0.9404055611238593, -0.5627240503927933, 0.010710576206724776, -0.9469280606322728, -0.602324698626703, 0.2997688755590464, 0.08988296120643335, -0.5591187559186066, 0.17853136775181744, 0.6188609133556533, -0.987002480643878, 0.6116385036656158, 0.3962787899764537, -0.31949896696401625, -0.6890410003764369, 0.9144261444135624, -0.32681090977474647, -0.8145083132397042, -0.806567246333072, 0.6949887326949196, 0.20745206273378214, 0.6142565465487604, 0.45946357338763577, 0.07245618290940148, 0.9462315279587412, -0.24293124558329304]\n",
      "Test Passed\n",
      "Test # 3\n",
      "288\n",
      "[0.2788535969157675, -0.9499784895546661, -0.4499413632617615, -0.5535785237023545, 0.4729424283280248, 0.3533989748458226, 0.7843591354096908, -0.8261223347411677, -0.15615636062945915, -0.9404055611238593, -0.5627240503927933, 0.010710576206724776, -0.9469280606322728, -0.602324698626703, 0.2997688755590464, 0.08988296120643335, -0.5591187559186066, 0.17853136775181744, 0.6188609133556533, -0.987002480643878, 0.6116385036656158, 0.3962787899764537, -0.31949896696401625, -0.6890410003764369, 0.9144261444135624, -0.32681090977474647, -0.8145083132397042, -0.806567246333072, 0.6949887326949196, 0.20745206273378214, 0.6142565465487604, 0.45946357338763577, 0.07245618290940148, 0.9462315279587412, -0.24293124558329304, 0.104081262546454, 0.6588093285059897, 0.2370395047284921, 0.7234138006215545, 0.15470429051352408, 0.40914367242984695, -0.9083512326886756, -0.5442034486969063, -0.42122407279578566, -0.840416046152745, -0.5344182272779396, -0.7979971411805418, -0.44405279377981577, 0.27136888852880037, -0.2703356420598315, -0.2596380657662347, -0.5809859384570246, -0.4660443559017733, 0.873309175424988, 0.2960707704931871, 0.21826201133397638, -0.657722703603806, 0.45825359590069836, -0.6731950124761432, -0.24108911648470444, 0.9790467012731905, 0.2799995197081857, 0.11389948754929247, 0.3692285019797492, 0.6857038403796192, 0.5519998230924896, -0.5419038560717913, -0.9357995121919245, -0.36909390388183616, -0.46451824804859454, -0.5780343128273471, 0.8858194286701089, 0.7527352529453377, -0.37064423840304417, 0.3108773305897601, -0.20873619787867148, 0.829095179481087, -0.0822962948252024, -0.4702396670038951, -0.5067449846120331, 0.12273626832630158, -0.47451678295412947, 0.16917198044708104, 0.795645767204954, -0.20119898971920547, -0.5613584816854333, 0.9950752129902205, 0.01905258735292903, -0.8181811756524122, -0.9057672491505309, -0.7807017392986817, 0.2548920834061801, 0.5841587287259282, -0.15568006640063192, -0.8729445876960857, -0.23676142698692648, 0.9922427604801936, 0.058228690198274036, 0.9421567552272363, 0.7215594044689961]\n",
      "Test Passed\n",
      "Test # 4\n",
      "452\n",
      "[0.2788535969157675, -0.9499784895546661, -0.4499413632617615, -0.5535785237023545, 0.4729424283280248, 0.3533989748458226, 0.7843591354096908, -0.8261223347411677, -0.15615636062945915, -0.9404055611238593, -0.5627240503927933, 0.010710576206724776, -0.9469280606322728, -0.602324698626703, 0.2997688755590464, 0.08988296120643335, -0.5591187559186066, 0.17853136775181744, 0.6188609133556533, -0.987002480643878, 0.6116385036656158, 0.3962787899764537, -0.31949896696401625, -0.6890410003764369, 0.9144261444135624, -0.32681090977474647, -0.8145083132397042, -0.806567246333072, 0.6949887326949196, 0.20745206273378214, 0.6142565465487604, 0.45946357338763577, 0.07245618290940148, 0.9462315279587412, -0.24293124558329304, 0.104081262546454, 0.6588093285059897, 0.2370395047284921, 0.7234138006215545, 0.15470429051352408, 0.40914367242984695, -0.9083512326886756, -0.5442034486969063, -0.42122407279578566, -0.840416046152745, -0.5344182272779396, -0.7979971411805418, -0.44405279377981577, 0.27136888852880037, -0.2703356420598315, -0.2596380657662347, -0.5809859384570246, -0.4660443559017733, 0.873309175424988, 0.2960707704931871, 0.21826201133397638, -0.657722703603806, 0.45825359590069836, -0.6731950124761432, -0.24108911648470444, 0.9790467012731905, 0.2799995197081857, 0.11389948754929247, 0.3692285019797492, 0.6857038403796192, 0.5519998230924896, -0.5419038560717913, -0.9357995121919245, -0.36909390388183616, -0.46451824804859454, -0.5780343128273471, 0.8858194286701089, 0.7527352529453377, -0.37064423840304417, 0.3108773305897601, -0.20873619787867148, 0.829095179481087, -0.0822962948252024, -0.4702396670038951, -0.5067449846120331]\n",
      "Test Passed\n",
      "Test # 5\n",
      "226\n",
      "[0.2788535969157675, -0.9499784895546661, -0.4499413632617615, -0.5535785237023545, 0.4729424283280248, 0.3533989748458226, 0.7843591354096908, -0.8261223347411677, -0.15615636062945915, -0.9404055611238593, -0.5627240503927933, 0.010710576206724776, -0.9469280606322728, -0.602324698626703, 0.2997688755590464, 0.08988296120643335, -0.5591187559186066, 0.17853136775181744, 0.6188609133556533, -0.987002480643878, 0.6116385036656158, 0.3962787899764537, -0.31949896696401625, -0.6890410003764369, 0.9144261444135624, -0.32681090977474647, -0.8145083132397042, -0.806567246333072, 0.6949887326949196, 0.20745206273378214, 0.6142565465487604, 0.45946357338763577, 0.07245618290940148, 0.9462315279587412, -0.24293124558329304, 0.104081262546454, 0.6588093285059897, 0.2370395047284921, 0.7234138006215545, 0.15470429051352408, 0.40914367242984695, -0.9083512326886756, -0.5442034486969063, -0.42122407279578566, -0.840416046152745, -0.5344182272779396, -0.7979971411805418, -0.44405279377981577, 0.27136888852880037, -0.2703356420598315, -0.2596380657662347, -0.5809859384570246, -0.4660443559017733, 0.873309175424988, 0.2960707704931871, 0.21826201133397638, -0.657722703603806, 0.45825359590069836, -0.6731950124761432, -0.24108911648470444, 0.9790467012731905, 0.2799995197081857, 0.11389948754929247, 0.3692285019797492, 0.6857038403796192, 0.5519998230924896, -0.5419038560717913, -0.9357995121919245, -0.36909390388183616, -0.46451824804859454]\n",
      "Test Passed\n",
      "15 points!\n"
     ]
    }
   ],
   "execution_count": 3
  },
  {
   "metadata": {
    "ExecuteTime": {
     "end_time": "2024-12-09T00:07:47.416582Z",
     "start_time": "2024-12-09T00:07:47.414159Z"
    }
   },
   "cell_type": "code",
   "source": "",
   "id": "fa54ab3d8512d46",
   "outputs": [],
   "execution_count": null
  },
  {
   "metadata": {},
   "cell_type": "code",
   "outputs": [],
   "execution_count": null,
   "source": "",
   "id": "6bb2485d961999aa"
  }
 ],
 "metadata": {
  "kernelspec": {
   "display_name": "Python 3",
   "language": "python",
   "name": "python3"
  },
  "language_info": {
   "codemirror_mode": {
    "name": "ipython",
    "version": 2
   },
   "file_extension": ".py",
   "mimetype": "text/x-python",
   "name": "python",
   "nbconvert_exporter": "python",
   "pygments_lexer": "ipython2",
   "version": "2.7.6"
  }
 },
 "nbformat": 4,
 "nbformat_minor": 5
}
