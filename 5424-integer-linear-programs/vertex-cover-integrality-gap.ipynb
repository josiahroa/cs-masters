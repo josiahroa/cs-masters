{
 "cells": [
  {
   "cell_type": "code",
   "id": "initial_id",
   "metadata": {
    "collapsed": true,
    "ExecuteTime": {
     "end_time": "2024-12-01T20:55:05.754707Z",
     "start_time": "2024-12-01T20:55:04.959852Z"
    }
   },
   "source": "!pip3 install pulp",
   "outputs": [
    {
     "name": "stdout",
     "output_type": "stream",
     "text": [
      "Requirement already satisfied: pulp in /Users/josiahroa/workspace/cs-masters/5414-greedy-algorithms/karatsuba/.venv/lib/python3.12/site-packages (2.9.0)\r\n",
      "\r\n",
      "\u001B[1m[\u001B[0m\u001B[34;49mnotice\u001B[0m\u001B[1;39;49m]\u001B[0m\u001B[39;49m A new release of pip is available: \u001B[0m\u001B[31;49m23.2.1\u001B[0m\u001B[39;49m -> \u001B[0m\u001B[32;49m24.3.1\u001B[0m\r\n",
      "\u001B[1m[\u001B[0m\u001B[34;49mnotice\u001B[0m\u001B[1;39;49m]\u001B[0m\u001B[39;49m To update, run: \u001B[0m\u001B[32;49mpip install --upgrade pip\u001B[0m\r\n"
     ]
    }
   ],
   "execution_count": 19
  },
  {
   "metadata": {
    "ExecuteTime": {
     "end_time": "2024-12-01T20:55:05.760356Z",
     "start_time": "2024-12-01T20:55:05.757827Z"
    }
   },
   "cell_type": "code",
   "source": [
    "import pulp as pl\n",
    "\n",
    "def compute_optimal_vertex_cover(n, edge_list):\n",
    "    prob = pl.LpProblem('vert_cover', pl.LpMinimize)\n",
    "    decision_vars = [pl.LpVariable(f'w_{i}', cat='Binary') for i in range(1, n+1)]\n",
    "    prob += pl.lpSum(decision_vars) \n",
    "    \n",
    "    # go through each edge in the list\n",
    "    for (i, j) in edge_list: \n",
    "        assert 1 <= i <= n \n",
    "        assert 1 <= j <= n\n",
    "        prob += decision_vars[i-1] + decision_vars[j-1] >= 1\n",
    "    stat = prob.solve(pl.PULP_CBC_CMD(msg=False)) # solve the problem but suppress output\n",
    "    assert stat == pl.LpStatusOptimal, 'Problem does not have optimal status -- something went wrong -- this should not happen for this problem'\n",
    "    vert_cover = [i+1 for i in range(n) if decision_vars[i].varValue > 0 ]\n",
    "    print(vert_cover)\n",
    "    return len(vert_cover)"
   ],
   "id": "654c1bc5843dd239",
   "outputs": [],
   "execution_count": 20
  },
  {
   "metadata": {
    "ExecuteTime": {
     "end_time": "2024-12-01T20:55:05.766797Z",
     "start_time": "2024-12-01T20:55:05.764335Z"
    }
   },
   "cell_type": "code",
   "source": [
    "def compute_lp_relaxation_vertex_cover(n, edge_list):\n",
    "    prob = pl.LpProblem('vert_cover', pl.LpMinimize)\n",
    "    decision_vars = [pl.LpVariable(f'z_{i}', lowBound=0.0, upBound=1.0, cat='Continuous') for i in range(1, n+1)]\n",
    "    prob += pl.lpSum(decision_vars)\n",
    "    \n",
    "    # go through each edge in the list\n",
    "    for (i, j) in edge_list: \n",
    "        assert 1 <= i <= n \n",
    "        assert 1 <= j <= n\n",
    "        prob += decision_vars[i-1] + decision_vars[j-1] >= 1\n",
    "    stat = prob.solve(pl.PULP_CBC_CMD(msg=False)) # solve the problem but suppress the output\n",
    "    assert stat == pl.LpStatusOptimal, 'Problem does not have optimal status -- something went wrong -- this should not happen for this problem'\n",
    "    vert_cover = [x.varValue for x in decision_vars]\n",
    "    print(vert_cover)\n",
    "    return sum(vert_cover)"
   ],
   "id": "8ab48e8ae1778f26",
   "outputs": [],
   "execution_count": 21
  },
  {
   "metadata": {
    "ExecuteTime": {
     "end_time": "2024-12-01T20:55:05.830766Z",
     "start_time": "2024-12-01T20:55:05.773111Z"
    }
   },
   "cell_type": "code",
   "source": [
    "edges = [(1, 2), (1, 3), (1, 4), \n",
    " (2, 3), (2, 6), \n",
    " (3, 4), (3, 5), (3, 6), \n",
    " (4, 5), (4,7), \n",
    " (5, 6), (5, 7), \n",
    " (6, 7)]\n",
    "\n",
    "optimal = compute_optimal_vertex_cover(7, edges)\n",
    "lp_relax = compute_lp_relaxation_vertex_cover(7, edges)\n",
    "print(optimal)\n",
    "print(lp_relax)"
   ],
   "id": "2f6218d9d479fae1",
   "outputs": [
    {
     "name": "stdout",
     "output_type": "stream",
     "text": [
      "[2, 3, 4, 6, 7]\n",
      "[0.5, 0.5, 0.5, 0.5, 0.5, 0.5, 0.5]\n",
      "5\n",
      "3.5\n"
     ]
    }
   ],
   "execution_count": 22
  }
 ],
 "metadata": {
  "kernelspec": {
   "display_name": "Python 3",
   "language": "python",
   "name": "python3"
  },
  "language_info": {
   "codemirror_mode": {
    "name": "ipython",
    "version": 2
   },
   "file_extension": ".py",
   "mimetype": "text/x-python",
   "name": "python",
   "nbconvert_exporter": "python",
   "pygments_lexer": "ipython2",
   "version": "2.7.6"
  }
 },
 "nbformat": 4,
 "nbformat_minor": 5
}
