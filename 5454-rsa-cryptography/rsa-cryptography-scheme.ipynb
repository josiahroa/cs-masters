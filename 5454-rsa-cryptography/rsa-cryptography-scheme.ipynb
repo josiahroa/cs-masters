{
 "cells": [
  {
   "cell_type": "markdown",
   "metadata": {},
   "source": [
    "# RSA Cryptosystem\n",
    "\n",
    "RSA is a public key cryptosystem that can encrypt and decrpyt messages that one wishes to transmit across a channel. In a public key system, a user has two types of passwords or keys.\n",
    "\n",
    "- Public Key: `p` is a key or passphrase that is visible by everyone\n",
    "- Private/Secret key: `s` is a key that is held by secret by the user.\n",
    "\n",
    "The idea is that you encrypt a message with a public key, and the said message can be decrypted with the secret key pair.\n",
    "\n",
    "For example, to encrypt message `m`\n",
    "```\n",
    "encrypt(m, p) = m'\n",
    "```\n",
    "\n",
    "And to decrypt the encrypted message `m'`\n",
    "```\n",
    "decrypt(m', s) = m\n",
    "```\n",
    "\n",
    "This is a simple way of encrypting and decrypting messages, but it can be expanded upon to add a signature to a message - so that the message sender can be verified by the receiver.\n",
    "\n",
    "The sender signs `S` the message `m` using their secret key, therefore encrypting it. `m' + S\"`. When the receiver receives said message, they decrypt `m'` using their secret key. Then, the receiver decrypts `S\"` using the sender's public key. \n",
    "\n",
    "This allows the receiver to verify and match the signature of the sender with the expected sender."
   ]
  },
  {
   "cell_type": "markdown",
   "metadata": {},
   "source": [
    "# Messages Encoded as Numbers\n",
    "\n",
    "Before encrypting and decrypting messages, we will want to convert said messages into numbers. We will create a simple encoding algorithm using ascii codes.\n"
   ]
  },
  {
   "cell_type": "code",
   "execution_count": 17,
   "metadata": {},
   "outputs": [],
   "source": [
    "# Given a string s, convert it into a sequence of numbers.\n",
    "# Take a \"block length\" of 5 characters and encode the ascii values as a number in the base q number system.\n",
    "# Default q to 101, convert base-q numbers into decimals\n",
    "\n",
    "def convert_string_to_numbers(s, q=101, block_length = 5):\n",
    "    chars = [*s] # hello -> ['h', 'e', 'l', 'l', 'o']\n",
    "    n = len(chars)\n",
    "    \n",
    "    assert n > 0, 'Non-empty strings required'\n",
    "\n",
    "    assert all(32 <= ord(c) <= 126 for c in chars), 'String must have alpha numeric and space characters'\n",
    "\n",
    "    # Ensure the chars list is divisible by block length\n",
    "    padding = block_length - (n%block_length)\n",
    "    if n % block_length == 0:\n",
    "        padding = 0\n",
    "    \n",
    "    # Add padding if necessary\n",
    "    chars += [chr(31)]*padding # chr(31) will be treated as 0(null) when we subtract 31 later\n",
    "    n = len(chars)\n",
    "\n",
    "    assert n % 5 == 0\n",
    "\n",
    "    msg = []\n",
    "    for i in range(0,n,5):\n",
    "        block = chars[i:i+5]\n",
    "        # convert to ascii values, subtract 31 so that the largest ASCII value is < 101\n",
    "        c = [ord(k)-31 for k in block] \n",
    "        m = 0\n",
    "        for j in range(4, -1, -1):\n",
    "            m = m * q + c[j]\n",
    "        msg.append(m)\n",
    "    return msg\n"
   ]
  },
  {
   "cell_type": "code",
   "execution_count": 18,
   "metadata": {},
   "outputs": [
    {
     "data": {
      "text/plain": [
       "[12067926601, 10416346443, 11376593853, 12072121778, 3330993447]"
      ]
     },
     "execution_count": 18,
     "metadata": {},
     "output_type": "execute_result"
    }
   ],
   "source": [
    "convert_string_to_numbers('Please encode my message')"
   ]
  }
 ],
 "metadata": {
  "kernelspec": {
   "display_name": ".venv",
   "language": "python",
   "name": "python3"
  },
  "language_info": {
   "codemirror_mode": {
    "name": "ipython",
    "version": 3
   },
   "file_extension": ".py",
   "mimetype": "text/x-python",
   "name": "python",
   "nbconvert_exporter": "python",
   "pygments_lexer": "ipython3",
   "version": "3.13.2"
  }
 },
 "nbformat": 4,
 "nbformat_minor": 2
}
