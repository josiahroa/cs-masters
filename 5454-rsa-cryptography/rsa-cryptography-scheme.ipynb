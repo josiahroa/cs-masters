{
 "cells": [
  {
   "cell_type": "markdown",
   "metadata": {},
   "source": [
    "# RSA Cryptosystem\n",
    "\n",
    "RSA is a public key cryptosystem that can encrypt and decrpyt messages that one wishes to transmit across a channel. In a public key system, a user has two types of passwords or keys.\n",
    "\n",
    "- Public Key: `p` is a key or passphrase that is visible by everyone\n",
    "- Private/Secret key: `s` is a key that is held by secret by the user.\n",
    "\n",
    "The idea is that you encrypt a message with a public key, and the said message can be decrypted with the secret key pair.\n",
    "\n",
    "For example, to encrypt message `m`\n",
    "```\n",
    "encrypt(m, p) = m'\n",
    "```\n",
    "\n",
    "And to decrypt the encrypted message `m'`\n",
    "```\n",
    "decrypt(m', s) = m\n",
    "```\n",
    "\n",
    "This is a simple way of encrypting and decrypting messages, but it can be expanded upon to add a signature to a message - so that the message sender can be verified by the receiver.\n",
    "\n",
    "The sender signs `S` the message `m` using their secret key, therefore encrypting it. `m' + S\"`. When the receiver receives said message, they decrypt `m'` using their secret key. Then, the receiver decrypts `S\"` using the sender's public key. \n",
    "\n",
    "This allows the receiver to verify and match the signature of the sender with the expected sender."
   ]
  },
  {
   "cell_type": "markdown",
   "metadata": {},
   "source": [
    "# Messages Encoded as Numbers\n",
    "\n",
    "Before encrypting and decrypting messages, we will want to convert said messages into numbers. We will create a simple encoding algorithm using ascii codes.\n"
   ]
  },
  {
   "cell_type": "code",
   "execution_count": 53,
   "metadata": {},
   "outputs": [],
   "source": [
    "# Given a string s, convert it into a sequence of numbers.\n",
    "# Take a \"block length\" of 5 characters and encode the ascii values as a number in the base q number system.\n",
    "# Default q to 101, convert base-q numbers into decimals\n",
    "\n",
    "def convert_string_to_numbers(s, number_base=101, block_length = 5):\n",
    "    chars = [*s] # hello -> ['h', 'e', 'l', 'l', 'o']\n",
    "    n = len(chars)\n",
    "    \n",
    "    assert n > 0, 'Non-empty strings required'\n",
    "\n",
    "    assert all(32 <= ord(c) <= 126 for c in chars), 'String must have alpha numeric and space characters'\n",
    "\n",
    "    # Ensure the chars list is divisible by block length\n",
    "    padding = block_length - (n%block_length)\n",
    "    if n % block_length == 0:\n",
    "        padding = 0\n",
    "    \n",
    "    # Add padding if necessary\n",
    "    chars += [chr(31)]*padding # chr(31) will be treated as 0(null) when we subtract 31 later\n",
    "    n = len(chars)\n",
    "\n",
    "    assert n % 5 == 0\n",
    "\n",
    "    msg = []\n",
    "    for i in range(0,n,5):\n",
    "        block = chars[i:i+5]\n",
    "        # convert to ascii values, subtract 31 so that the largest ASCII value is < 101\n",
    "        c = [ord(k)-31 for k in block] \n",
    "        m = 0\n",
    "        for k in range(4, -1, -1):\n",
    "            m = m * number_base + c[k]\n",
    "        msg.append(m)\n",
    "    return msg\n"
   ]
  },
  {
   "cell_type": "code",
   "execution_count": 74,
   "metadata": {},
   "outputs": [
    {
     "name": "stdout",
     "output_type": "stream",
     "text": [
      "[192501599, 7574505674, 7371820523, 9434485127, 8395705498, 179055495, 191368017, 8828483000, 6869738175, 7684002107, 7355337089, 8297725970, 296451434]\n"
     ]
    }
   ],
   "source": [
    "msg = convert_string_to_numbers('Just doing a test by encoding this messsage and then decoding it!')\n",
    "print(msg)"
   ]
  },
  {
   "cell_type": "code",
   "execution_count": 75,
   "metadata": {},
   "outputs": [],
   "source": [
    "# Invert the process of the encoding function so that we can decode the message\n",
    "def convert_numbers_to_string(msg, number_base=101, block_length=5):\n",
    "    n = len(msg)\n",
    "    assert n > 0\n",
    "\n",
    "    codes = []\n",
    "    for k in msg:\n",
    "        for _ in range(block_length):\n",
    "            r = k % number_base\n",
    "            codes.append(chr(r+31))\n",
    "            k = k//number_base\n",
    "    return ''.join(codes).rstrip(chr(31))"
   ]
  },
  {
   "cell_type": "code",
   "execution_count": 76,
   "metadata": {},
   "outputs": [
    {
     "name": "stdout",
     "output_type": "stream",
     "text": [
      "Just doing a test by encoding this messsage and then decoding it!\n"
     ]
    }
   ],
   "source": [
    "msg = convert_numbers_to_string(msg)\n",
    "print(msg)"
   ]
  }
 ],
 "metadata": {
  "kernelspec": {
   "display_name": ".venv",
   "language": "python",
   "name": "python3"
  },
  "language_info": {
   "codemirror_mode": {
    "name": "ipython",
    "version": 3
   },
   "file_extension": ".py",
   "mimetype": "text/x-python",
   "name": "python",
   "nbconvert_exporter": "python",
   "pygments_lexer": "ipython3",
   "version": "3.13.2"
  }
 },
 "nbformat": 4,
 "nbformat_minor": 2
}
